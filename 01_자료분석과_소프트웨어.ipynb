{
 "cells": [
  {
   "cell_type": "markdown",
   "metadata": {},
   "source": [
    "# 자료분석과 소프트웨어"
   ]
  },
  {
   "cell_type": "markdown",
   "metadata": {},
   "source": [
    "**통계학의 연구 대상은 자료(data)이며, 연구 대상인 자료를 수집하고, 관리하고, 분석하고, 해석하는 방법을 연구하는 학문이 통계학이다.**"
   ]
  },
  {
   "cell_type": "markdown",
   "metadata": {},
   "source": [
    "자료를 수집하는 단계에서 가장 많은 시간과 노력이 소요된다.\n",
    "어떤 자료를 어떻게 수집할 것인가 하는 문제는 자료가 수집되는 분야에 대한 지식과 통계적 지식 모두 요구되는 어려운 문제이다.\n",
    "뿐만 아니라 분석이나 해석이 잘못된 경우에는 다시 분석하고 해석할 수 있지만, 자료 수집이 잘못된 경우에는 바로 잡을 방법이 거의 없다.\n",
    "이런 이유로 기초적인 통계분석 과정에서는 이미 수집된 자료를 이용한다."
   ]
  },
  {
   "cell_type": "markdown",
   "metadata": {},
   "source": [
    "수집된 자료를 분석할 때 필요한 도구는 컴퓨터와 이 컴퓨터에서 실행할 자료분석 소프트웨어(software)이다.\n",
    "엑셀(Excel)과 같은 스프레드시트(spreadsheet)를 이용하여 자료를 분석하기도 했지만, 장기적 안목으로 보면 **통계분석** 또는 **자료분석 전용 소프트웨어**를 익히는 것이 바람직하다."
   ]
  },
  {
   "cell_type": "markdown",
   "metadata": {},
   "source": [
    "**통계분석 전용 소프트웨어도 상용 소프트웨어와 공개 소프트웨어 두 가지가 있다.**\n",
    "잘 알려진 상용 소프트웨어로는 SAS, SPSS, Minitab 등이 있다.\n",
    "이들 상용 소프트웨어들은 나름의 장단점과 함께 역사를 가지고 있기 때문에 상당수의 사용자를 확보하고 있다.\n",
    "이들 상용 소프트웨어는 최초 구입시 상당한 비용이 들 뿐 아니라, 새로운 버전(version)으로 갱신할 때나 연간 사용계약을 갱신할 때도 역시 상당한 비용이 든다."
   ]
  },
  {
   "cell_type": "markdown",
   "metadata": {},
   "source": [
    "MIT의 **리처드 스톨먼(Richard Stallman)**은 **소프트웨어의 소스 코드(source code)는 공유되어야 한다**는 소신을가지고 1984년 **GNU (GNU's Not Unix) 프로젝트**를 시작하였고, 1985년에는 **자유 소프트웨어 재단(FSF, Free Software Foundation)**을 설립하여 **자유 소프트웨어 운동(Free Software Movement)**을 시작하였다.\n",
    "이 운동은 **모든 소프트웨어를 누구든지 자유로이 사용할 수 있고, 필요에 따라 변경할 수 있으며, 변경된 소프트웨어를 자유로이 배포할 수 있게 하자는 운동**이다.\n",
    "1998년 이후 자유 소프트웨어란 용어의 의미를 분명히 하기위해 **오픈 소스 소프트웨어(open source software, OSS)**란 용어를 사용하기 시작하였다.\n",
    "자유 소프트웨어 운동에 동참하여 많은 OSS가 개발되고 배포되었으며, 자료분석 소프트웨어도 예외가 아니다.\n",
    "사용자의 수 측면에서도 과거에는 상용 소프트웨어 사용자가 많았지만 2010년 대에 접어들면서 OSS 사용자가 더 많아졌으며 그 차이는 급격하게 벌어지고 있다.\n",
    "현재 가장 많이 사랑받는 자료분석용 OSS로는 **R**과 **파이썬(Python)**을 들 수 있다.\n",
    "특히 **파이썬은 객체지향 프로그래밍을 지원하는 범용 프로그래밍 언어**이기 때문에 더 많은 관심을 받고 있다."
   ]
  }
 ],
 "metadata": {
  "anaconda-cloud": {},
  "kernelspec": {
   "display_name": "Python [default]",
   "language": "python",
   "name": "python3"
  },
  "language_info": {
   "codemirror_mode": {
    "name": "ipython",
    "version": 3
   },
   "file_extension": ".py",
   "mimetype": "text/x-python",
   "name": "python",
   "nbconvert_exporter": "python",
   "pygments_lexer": "ipython3",
   "version": "3.6.3"
  }
 },
 "nbformat": 4,
 "nbformat_minor": 1
}
