{
 "cells": [
  {
   "cell_type": "markdown",
   "metadata": {},
   "source": [
    "# 윈도우즈 명령 프롬프트 사용하기"
   ]
  },
  {
   "cell_type": "markdown",
   "metadata": {},
   "source": [
    "자료분석용 소프트웨어도 컴퓨터에서 실행되는 프로그램이기 때문에 컴퓨터를 어느 정도 자유롭게 사용할 수 있는 능력이 요구된다.\n",
    "컴퓨터를 사용하는 방법은 컴퓨터에 설치된 **운영체제**(OS, operating system)에 따라 조금씩 다르다.\n",
    "현재 많이 사용되는 운영체제는 `Unix`, `Linux`, `Windows`, `iOS`, `Android` 등인데 우리나라에서는 `Windows` 운영체제가 가장 많이 사용되고 있기 때문에 윈도우즈 운영체제에서 컴퓨터를 사용하는 기본적인 방법을 살펴보기로 한다.\n",
    "특히 **명령 프롬프트**(command prompt)에서 작업하는 방법에 대해 알아본다.\n",
    "명령 프롬프트에서 컴퓨터를 사용하는 방법을 익히면 빠른 시간에 많은 일을 할 수 있으며, 명령 프롬프트에서만 가능한 고수준의 작업도 있으므로 명령 프롬프트에서 작업하는 데 익숙해지는 것은 상당히 바람직하다.\n",
    "\n",
    "Note: 다른 운영체제에서는 **명령 프롬프트**를 **터미널**(terminal) 또는 **쉘**(shell)이라고 한다."
   ]
  },
  {
   "cell_type": "markdown",
   "metadata": {},
   "source": [
    "## 명령 프롬프트 실행 방법"
   ]
  },
  {
   "cell_type": "markdown",
   "metadata": {},
   "source": [
    "바탕화면의 가장자리에 위치한 **작업표시줄**(task bar)의 검색창에 `명령 프롬프트`를 입력하고 엔터키(enter key)를 누르면 명령 프롬프트가 실행된다. (`명령 프롬프트`을 입력할 때 한 칸 띄우는 것을 소홀히 하지 않는 것이 좋다.)\n",
    "명령 프롬프트가 실행되면 새로운 **창**(window)이 뜨면서 아래와 같은 화면이 나타나면 명령 프롬프트가 제대로 실행되어 사용할 수 있는 상태가 된다.\n",
    "\n",
    "![명령창](./images/명령창.png)\n",
    "\n",
    "특히\n",
    "\n",
    "```\n",
    "    C:\\Users\\joong>\n",
    "```\n",
    "\n",
    "를 **프롬프트**(prompt)라고 한다\n",
    "프롬프트는 운영체제가 사용자가 내리는 명령을 수행할 준비가 되어 있음을 보여줄 뿐 아니라 **현재 사용자가 위치한 디렉토리**가 무엇인지를 보여준다.\n",
    "따라서 프롬프트는 사용하는 컴퓨터나 로그온 한 사용자의 이름에 따라 조금 다를 수 있다."
   ]
  },
  {
   "cell_type": "markdown",
   "metadata": {},
   "source": [
    "## 명령 프롬프트 종료하기"
   ]
  },
  {
   "cell_type": "markdown",
   "metadata": {},
   "source": [
    "명령 프롬프트를 종료할 때는 `exit` 명령을 사용한다.\n",
    "\n",
    "```python\n",
    "C:\\Users\\joong> exit\n",
    "```"
   ]
  },
  {
   "cell_type": "markdown",
   "metadata": {},
   "source": [
    "## 명령 프롬프트에서 파일 탐색기의 기능 수행하기"
   ]
  },
  {
   "cell_type": "markdown",
   "metadata": {},
   "source": [
    "Windows 운영체제가 설치된 컴퓨터 사용자가 자주 사용하는 프로그램 중 하나가 **파일 탐색기**이다.\n",
    "현재 작업하고 있는 디렉토리(**작업 디렉토리**(working directory)의 **경로**(path), 특정 디렉토리에 저장된 파일이나 디렉토리의 목록 보기, 현재 작업하는 디렉토리를 다른 티렉토리로 이동하기, 프로그램 실행, 파일 만들기, 파일 복사하기, 파일 삭제하기, 파일 내용 보기, 파일 이름 변경하기, 디렉토리 만들기, 디렉토리 이름 변경하기, 디렉토리 삭제하기 등 파일 탐색기에서 할 수 있는 일은 다양하다.\n",
    "파일 탐색기에서 할 수 있는 일은 대부분 명령 프롬프트에서 수행할 수 있다."
   ]
  },
  {
   "cell_type": "markdown",
   "metadata": {},
   "source": [
    "### 새로운 디렉토리 만들기"
   ]
  },
  {
   "cell_type": "markdown",
   "metadata": {},
   "source": [
    "기본적으로 명령 프롬프트는 프롬프트에 작업 디렉토리를 보여주기 때문에 프롬프트만 보면 현재 위치한 디렉토리를 알 수 있다.\n",
    "새로운 디렉토리를 생성할 때 사용하는 명령은 `mkdir`이다.\n",
    "새로운 디렉토리를 생성할 때 어느 디렉토리 아래에 생성하라고 지시하지 않으면 작업 디렉토리에 생성한다.\n",
    "다음은 작업 디렉토리 아래에 `python`이라는 이름의 새로운 디렉토리를 생성하는 `mkdir` 명령이다.\n",
    "\n",
    "```python\n",
    "C:\\Users\\joong> mkdir python\n",
    "```"
   ]
  },
  {
   "cell_type": "markdown",
   "metadata": {},
   "source": [
    "### 디렉토리의 내용 보기"
   ]
  },
  {
   "cell_type": "markdown",
   "metadata": {},
   "source": [
    "특정 디렉토리에 저장된 디렉토리나 파일의 목록을 보는 명령은 `dir`이다.\n",
    "다음은 작업 디렉토리의 내용을 보는 명령이다.\n",
    "\n",
    "```python\n",
    "C:\\Users\\joong> dir\n",
    "```\n",
    "\n",
    "다음은 작업 디렉토리 아래에 있는 `python`이라는 디렉토리에 저장된 파일이나 파일의 목록을 보는 명령이다.\n",
    "이와 같이 작업 디렉토리가 아닌 다른 디렉토리의 내용을 볼 때는 디렉토리 이름을 `dir` 명령에 추가한다.\n",
    "작업 디렉토리에 있는 디렉토리는 간단히 이름만 기재하면 된다.\n",
    "\n",
    "```python\n",
    "C:\\Users\\User> dir python\n",
    "```\n",
    "\n",
    "만약 작업 디렉토리 바로 위 쪽에 위치한 `C:\\Users` 디렉토리의 내용을 보고 싶을 때는 다음과 같은 명령을 준다.\n",
    "작업 디렉토리의 바로 위 쪽 디렉토리는 이름 대신 `..`를 사용할 수 있다.\n",
    "\n",
    "```python\n",
    "C:\\Users\\User> dir C:\\Users\n",
    "```\n",
    "\n",
    "```python\n",
    "C:\\Users\\User> dir ..\n",
    "```\n",
    "\n",
    "위 예에서 추측할 수 있듯이 `\\`는 윈도우즈 운영체제에서 디렉토리의 계층관계를 나타낼 때 디렉토리와 디렉토리를 구분하는 문자(separator)로 사용된다.\n",
    "\n",
    "\n",
    "Note: 다른 운영체제에서는 `\\` 대신 `/`를 구분 문자로 사용한다."
   ]
  },
  {
   "cell_type": "markdown",
   "metadata": {},
   "source": [
    "### 작업 디렉토리 이동하기"
   ]
  },
  {
   "cell_type": "markdown",
   "metadata": {},
   "source": [
    "다른 디렉토리로 이동할 때는 `cd` 명령 또는 `chdir` 명령을 사용한다.\n",
    "`cd` 명령은 `chdir` 명령은 동일한 명령이다.\n",
    "다음 예와 같이 이동할 디렉토리를 `cd` 명령에 지정한다.\n",
    "특정 디렉토리를 지정하는 방법은 크게 두 가지가 있다.\n",
    "현재 디렉토리에서 특정 디렉토리로 가는 길을 지정하는 방법과 최상위 디렉토리에서 특정 디렉토리로 이르는 길을 지정하는 방법이다.\n",
    "전자를 **상대경로**(relative path)라고 하고 후자를 **절대경로**(absolute path)라고 한다."
   ]
  },
  {
   "cell_type": "markdown",
   "metadata": {},
   "source": [
    "상대경로에서는 `.`와 `..`이 유용하게 사용된다.\n",
    "앞에서 언급한 바와 같이 `..`는 현재 위치한 디렉토리의 상위 디렉토리를 가리키고 `.`은 현재 위치한 디렉토리를 가리킨다.\n",
    "따라서 현재 위치한 디렉토리에 있는 `python` 디렉토리는 간단히 `python`으로 저정할 수도 있고 `.\\python`으로 지정할 수도 있다.\n",
    "다음은 상대경로를 이용한 `cd` 명령의 사용예이다.\n",
    "\n",
    "```python\n",
    "C:\\Users\\joong> cd python\n",
    "C:\\Users\\joong\\python> cd ..\n",
    "C:\\Users\\joong> cd .\\python\n",
    "C:\\Users\\joong\\python> cd ..\\..\n",
    "C:\\Users> cd .\\joong\\python\n",
    "C:\\Users\\joong\\python> cd ..\\..\\joong\n",
    "C:\\Users\\joong>\n",
    "```"
   ]
  },
  {
   "cell_type": "markdown",
   "metadata": {},
   "source": [
    "### 외부 저장장치 사용하기"
   ]
  },
  {
   "cell_type": "markdown",
   "metadata": {},
   "source": [
    "윈도우즈 운영체는 저장장치를 식별하기 위해 **드라이브 문자**(drive letter)를 사용한다.\n",
    "`C:\\Users\\joong`에서 `C`가 드라이브 문자이고 `C:\\`는 드라이브 문자 `C`가 할당된 장치의 최상위 디렉토리를 나타낸다.\n",
    "하나의 SSD 또는 HDD를 분할해서 사용하거나 HDD나 USB 메모리를 추가하면 각 장치에는 `D`, `E`, `F` 등과 같은 드라이브가 자동으로 할당된다."
   ]
  },
  {
   "cell_type": "markdown",
   "metadata": {},
   "source": [
    "다른 드라이브에 있는 디렉토리로 이동할 때는 먼저 다른 드라이브로 이동한 다음 특정 디렉토리로 이동하면 된다.\n",
    "다른 드라이브로 이동할 때는 `D:`, `E:` 등과 같이 드라이브 문자에 **콜론**(colon)을 붙인 명령을 주면 된다.\n",
    "따라서 외부 저장장치의 특정 디렉토리로 이동하려면 먼저 외부 저장장치로 이동한 다음 `cd` 명령으로 해당 디렉토리로 이동한다."
   ]
  },
  {
   "cell_type": "markdown",
   "metadata": {},
   "source": [
    "```python\n",
    "C:\\Users\\joong> D:\n",
    "D:\\> cd app\n",
    "D:\\app> C:\n",
    "C:\\Users\\joong>\n",
    "C:\\Users\\joong> f:\n",
    "F:\\> mkdir python\n",
    "F:\\> cd python\n",
    "F:\\python> \n",
    "```"
   ]
  },
  {
   "cell_type": "markdown",
   "metadata": {},
   "source": [
    "현재 연결된 저장장치와 각 저장장치에 할당된 드라이브를 보려면 `diskpart` 프로그램을 실행해서 `list volume` 명령을 준다.\n",
    "`diskpart` 프로그램을 종료하려면 `exit` 명령을 주면 된다.\n",
    "\n",
    "```python\n",
    "C\\Users\\joong> diskpart\n",
    "```"
   ]
  },
  {
   "cell_type": "markdown",
   "metadata": {},
   "source": [
    "각 드라이브에는 최상위 디렉토리가 있으며 이 최상위 디렉토리에서 그 아래에 있는 특정 디렉토리로 이동하는 전체 경로를 지정하는 것이 절대경로이다.\n",
    "\n",
    "`cd` 명령에 절대경로를 지정할 수도 있다.\n",
    "앞에서 든 상대경로를 이용한 `cd` 명령의 사용예를 절대경로로 바꾸면 다음과 같다.\n",
    "\n",
    "\n",
    "```python\n",
    "C:\\Users\\joong> cd C:\\Users\\joong\\python\n",
    "C:\\Users\\joong\\python> cd C:\\Users\\joong\n",
    "C:\\Users\\joong> cd C:\\Users\\joong\\python\n",
    "C:\\Users\\joong\\python> cd C:\\Users\\\n",
    "C:\\Users> cd C:\\Users\\joong\\python\n",
    "C:\\Users\\joong\\python> cd C:\\Users\\joong\n",
    "C:\\Users\\joong>\n",
    "```"
   ]
  },
  {
   "cell_type": "markdown",
   "metadata": {},
   "source": [
    "### 명령 프롬프트에서 사용할 수 있는 명령 보기"
   ]
  },
  {
   "cell_type": "markdown",
   "metadata": {},
   "source": [
    "명령 프롬프트에서 어떤 명령을 사용할 수 있는지 보려면 `help` 명령을 사용한다.\n",
    "그리고 특정 명령에 대한 설명과 사용법을 볼 때는 `help 명령` 명령을 사용한다.\n",
    "\n",
    "```python\n",
    "C:\\Users\\joong> help\n",
    "C:\\Users\\joong> help mkdir\n",
    "C:\\Users\\joong> help cd\n",
    "```\n",
    "\n",
    "명령 프롬프트에서 사용할 수 있는 다른 명령에 대해서 더 이상 설명하지 않겠지만 이 명령들을 익혀두는 것이 바람직하다."
   ]
  },
  {
   "cell_type": "markdown",
   "metadata": {},
   "source": [
    "### 명령 프롬프트에서 프로그램 실행하기"
   ]
  },
  {
   "cell_type": "markdown",
   "metadata": {},
   "source": [
    "`help` 명령은 명령 프롬프트가 내장하고 있는 명령을 보여준다.\n",
    "이와 달리 명령 프롬프트와 별개로 설치된 프로그램도 명령 프롬프트에서 실행할 수 있다.\n",
    "다음은 윈도우즈 운영체제에 기본적으로 탑재된 여러 가지 기본적인 프로그램과 오피스 프로그램을 을 실행하는 예이다.\n",
    "\n",
    "```python\n",
    "C:\\Users\\joong> notepad\n",
    "C:\\Users\\joong> explorer\n",
    "C:\\Users\\joong> calc\n",
    "C:\\Users\\joong> mspaint\n",
    "C:\\Users\\joong> control\n",
    "C:\\Users\\joong> excel\n",
    "C:\\Users\\joong> powerpnt\n",
    "```"
   ]
  },
  {
   "cell_type": "markdown",
   "metadata": {},
   "source": [
    "### 파일 관리하기"
   ]
  },
  {
   "cell_type": "markdown",
   "metadata": {},
   "source": [
    "메모장, 엑셀, 파워포인터와 같은 응용 프로그램으로 작업한 결과는 특정 디렉토리에 파일로 저장되는 것이 일반적이다.\n",
    "메모장을 실행하여 적당한 내용을 입력한 다음 현재 작업 디렉토리에 `my_first_file.txt`란 이름으로 저장하하려면 메모장을 실행할 때 파일 이름을 주면 된다.\n",
    "\n",
    "```python\n",
    "C:\\Users\\joong> notepad my_first_file.txt\n",
    "```"
   ]
  },
  {
   "cell_type": "markdown",
   "metadata": {},
   "source": [
    "파일의 복사본을 만들 때는 `copy` 명령을 사용한다.\n",
    "`copy` 명령에 대한 자세한 설명은 다음과 같이 알아볼 수 있다.\n",
    "\n",
    "```python\n",
    "C:\\Users\\joong> help copy\n",
    "```\n",
    "\n",
    "다음은 `my_first_file.txt`의 복사본을 만들어서 `my_first_file_cp.txt`라는 이름의 파일로 작업 디렉토리에 저장하는 예이다.\n",
    "\n",
    "```python\n",
    "C:\\Users\\joong> copy my_first_file.txt my_first_file_cp.txt\n",
    "```\n",
    "\n",
    "다음은 복사본을 만들어 작업 디렉토리 아래에 있는 `python` 디렉토리에 복사본을 저장하는 예이다.\n",
    "이와 같이 파일 이름 앞에 저장할 디렉토리의 경로를 붙여서 위치를 지정할 수 있다.\n",
    "이때 경로는 앞에서 설명한 바와 같이 절대경로나 상대경로 어느 방법으로 지정해도 상관없다.\n",
    "\n",
    "```python\n",
    "C:\\Users\\joong> copy my_first_file.txt .\\python\\my_first_file_cp.txt\n",
    "```"
   ]
  },
  {
   "cell_type": "markdown",
   "metadata": {},
   "source": [
    "파일의 삭제는 `del` 명령으로 수행하며 삭제할 파일 또는 이 파일에 대한 경로를 지정하면 된다.\n",
    "\n",
    "```python\n",
    "C:\\Users\\joong> del .\\python\\my_first_file_cp.txt\n",
    "```"
   ]
  },
  {
   "cell_type": "markdown",
   "metadata": {},
   "source": [
    "`del` 명령에 파일 이름이 아닌 디렉토리 이름 또는 경로를 주면 이 디렉토리 내에 있는 모든 파일을 한꺼번에 삭제할 수 있다.\n",
    "하지만 디렉토리가 삭제되지는 않는다.\n",
    "디렉토리를 삭제하려면 `rmdir` 명령을 사용해야 한다.\n",
    "`rmdir` 명령은 기본적으로 아무 것도 없는 빈 디렉토리를 삭제하지만 `/s` 또는 `/q` 옵션을 주면 빈 디렉토리가 아닌 디렉토리도 바로 삭제할 수 있다.\n",
    "\n",
    "```python\n",
    "C:\\Users\\joong> del python\n",
    "C:\\Users\\joong> rmdir python\n",
    "C:\\Users\\joong> rmdir python /q\n",
    "```"
   ]
  },
  {
   "cell_type": "markdown",
   "metadata": {},
   "source": [
    "## 연습문제\n",
    "\n",
    "1. 다음 두 명령의 실행 결과를 비교하고 그 이유를 설명해보시오.\n",
    "```python\n",
    "C:\\Users\\joong> dir ..\\..\n",
    "```\n",
    "```python\n",
    "C:\\Users\\joong> dir C:\\\n",
    "```\n",
    "2. usb 메모리를 컴퓨터에 연결하고 이 usb 메모리에 할당된 드라이브 문자를 알아보시오.\n",
    "2. 작업 디렉토리를 usb 메모리의 최상위 디렉토리로 이동하시오.\n",
    "3. 현재의 작업 디렉토리에서 다음 작업을 수행하시오.\n",
    "\n",
    "    * 작업 디렉토리에 `python`이란 이름의 파일이나 디렉토리가 있는지 확인하고 있으면 삭제하시오.\n",
    "    * 이름이 `python`인 하위 디렉토리를 만드시오.\n",
    "    * `python` 디렉토리에 이름이 `src`, `data`, `backup`인 세 개의 하위 디렉토리를 만드시오.\n",
    "    * 작업 디렉토리를 `src` 디렉토리로 이동하시오.\n",
    "    * 메모장으로 작업 디렉토리에 `hello_python.py` 파일을 작성하시오.\n",
    "    이 파일에 다음 한 줄을 입력하고 저장하시오.\n",
    "    \n",
    "    ```python\n",
    "    print('Hello, Python!!!')\n",
    "    ```\n",
    "    \n",
    "    * `hello_python.py`를 복사하여 `backup` 디렉토리에 `hello_python_backup.py`란 이름으로 저장하시오.\n",
    "    * 작업 디렉토리에 어떤 파일이 있는지 확인하시오.\n",
    "    * 작업디렉토리에 있는 `hello_python.py`를 삭제하시오.\n",
    "    * `backup` 디렉토리에 있는 `hello_python_backup.py`를 복사하여 작업 디렉토리에 `hello_python.py`란 이름으로 저장하시오.\n",
    "    * `hello_python.py`를 usb 메모리의 최상위 디렉토리로 이동하시오.\n",
    "    * 작업 디렉토리를 usb 메모리의 최상위 디렉토리로 이동하시오.\n",
    "    * `src`, `data`, `backup` 디렉토리를 삭제하시오.\n",
    "    * `hello_python.py`를 `python` 디렉토리로 이동하시오.\n",
    "    * 작업 디렉토리를 `python` 디렉토리로 이동하시오.\n",
    "    * 다음 명령을 실행하시오.\n",
    "    \n",
    "    ```python\n",
    "    F:\\python> ipython hello_python.py\n",
    "    ```"
   ]
  }
 ],
 "metadata": {
  "anaconda-cloud": {},
  "kernelspec": {
   "display_name": "Python 3",
   "language": "python",
   "name": "python3"
  },
  "language_info": {
   "codemirror_mode": {
    "name": "ipython",
    "version": 3
   },
   "file_extension": ".py",
   "mimetype": "text/x-python",
   "name": "python",
   "nbconvert_exporter": "python",
   "pygments_lexer": "ipython3",
   "version": "3.6.5"
  }
 },
 "nbformat": 4,
 "nbformat_minor": 1
}
