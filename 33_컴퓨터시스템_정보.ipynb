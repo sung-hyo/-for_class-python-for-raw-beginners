{
 "cells": [
  {
   "cell_type": "markdown",
   "metadata": {},
   "source": [
    "* 현재 사용하고 있는 파이썬의 버젼 정보를 알아보는 예제 프로그램을 작성하시오."
   ]
  },
  {
   "cell_type": "code",
   "execution_count": 1,
   "metadata": {},
   "outputs": [
    {
     "name": "stdout",
     "output_type": "stream",
     "text": [
      "Python version\n",
      "3.6.3 |Anaconda custom (64-bit)| (default, Nov  8 2017, 15:10:56) [MSC v.1900 64 bit (AMD64)]\n",
      "Version info.\n",
      "sys.version_info(major=3, minor=6, micro=3, releaselevel='final', serial=0)\n"
     ]
    }
   ],
   "source": [
    "import sys\n",
    "print(\"Python version\")\n",
    "print (sys.version)\n",
    "print(\"Version info.\")\n",
    "print (sys.version_info)"
   ]
  },
  {
   "cell_type": "markdown",
   "metadata": {},
   "source": [
    "* 파이썬 쉘이 32비트 모드인지 64비트 모드인지 확인하는 예제 프로그램을 작성하시오."
   ]
  },
  {
   "cell_type": "code",
   "execution_count": 1,
   "metadata": {},
   "outputs": [
    {
     "name": "stdout",
     "output_type": "stream",
     "text": [
      "64\n"
     ]
    }
   ],
   "source": [
    "import struct\n",
    "print(struct.calcsize(\"P\") * 8)"
   ]
  },
  {
   "cell_type": "markdown",
   "metadata": {},
   "source": [
    "* 현재 사용하고 있는 컴퓨터 시스템과 운영체제에 관한 정보를 얻는 프로그램을 작성하시오."
   ]
  },
  {
   "cell_type": "code",
   "execution_count": 10,
   "metadata": {},
   "outputs": [
    {
     "name": "stdout",
     "output_type": "stream",
     "text": [
      "nt\n",
      "Windows\n",
      "msi-Darwinian\n",
      "10\n",
      "10.0.16299\n",
      "AMD64\n",
      "Intel64 Family 6 Model 60 Stepping 3, GenuineIntel\n",
      "uname_result(system='Windows', node='msi-Darwinian', release='10', version='10.0.16299', machine='AMD64', processor='Intel64 Family 6 Model 60 Stepping 3, GenuineIntel')\n"
     ]
    }
   ],
   "source": [
    "import platform\n",
    "import os\n",
    "print(os.name)\n",
    "print(platform.system())\n",
    "print(platform.node())\n",
    "print(platform.release())\n",
    "print(platform.version())\n",
    "print(platform.machine())\n",
    "print(platform.processor())\n",
    "\n",
    "print(platform.uname())"
   ]
  },
  {
   "cell_type": "markdown",
   "metadata": {},
   "source": [
    "* CPU의 개수(core의 수)를 알아보는 프로그램을 작성하시오."
   ]
  },
  {
   "cell_type": "code",
   "execution_count": 11,
   "metadata": {},
   "outputs": [
    {
     "name": "stdout",
     "output_type": "stream",
     "text": [
      "4\n"
     ]
    }
   ],
   "source": [
    "import multiprocessing\n",
    "print(multiprocessing.cpu_count())"
   ]
  },
  {
   "cell_type": "markdown",
   "metadata": {},
   "source": [
    "* 외부 명령을 실행하는 예제 프로그램을 작성하시오."
   ]
  },
  {
   "cell_type": "code",
   "execution_count": 1,
   "metadata": {},
   "outputs": [
    {
     "data": {
      "text/plain": [
       "0"
      ]
     },
     "execution_count": 1,
     "metadata": {},
     "output_type": "execute_result"
    }
   ],
   "source": [
    "from subprocess import call\n",
    "call([\"notepad\", \"new_file.txt\"])"
   ]
  },
  {
   "cell_type": "markdown",
   "metadata": {},
   "source": [
    "* 환경변수에 접근하는 예제 프로그램을 작성하시오."
   ]
  },
  {
   "cell_type": "code",
   "execution_count": 13,
   "metadata": {},
   "outputs": [
    {
     "name": "stdout",
     "output_type": "stream",
     "text": [
      "environ({'ALLUSERSPROFILE': 'C:\\\\ProgramData', 'APPDATA': 'C:\\\\Users\\\\joong\\\\AppData\\\\Roaming', 'COMMONPROGRAMFILES': 'C:\\\\Program Files\\\\Common Files', 'COMMONPROGRAMFILES(X86)': 'C:\\\\Program Files (x86)\\\\Common Files', 'COMMONPROGRAMW6432': 'C:\\\\Program Files\\\\Common Files', 'COMPUTERNAME': 'MSI-DARWINIAN', 'COMSPEC': 'C:\\\\WINDOWS\\\\system32\\\\cmd.exe', 'CONDA_DEFAULT_ENV': 'base', 'CONDA_PREFIX': 'd:\\\\app\\\\Anaconda3', 'CONDA_PROMPT_MODIFIER': '(base) ', 'CONDA_PYTHON_EXE': 'd:\\\\app\\\\Anaconda3\\\\python.exe', 'CONDA_SHLVL': '1', 'FPS_BROWSER_APP_PROFILE_STRING': 'Internet Explorer', 'FPS_BROWSER_USER_PROFILE_STRING': 'Default', 'HOMEDRIVE': 'C:', 'HOMEPATH': '\\\\Users\\\\joong', 'LOCALAPPDATA': 'C:\\\\Users\\\\joong\\\\AppData\\\\Local', 'LOGONSERVER': '\\\\\\\\MSI-DARWINIAN', 'NUMBER_OF_PROCESSORS': '4', 'ONEDRIVE': 'C:\\\\Users\\\\joong\\\\OneDrive', 'OS': 'Windows_NT', 'PATH': 'd:\\\\app\\\\Anaconda3;d:\\\\app\\\\Anaconda3\\\\Library\\\\mingw-w64\\\\bin;d:\\\\app\\\\Anaconda3\\\\Library\\\\usr\\\\bin;d:\\\\app\\\\Anaconda3\\\\Library\\\\bin;d:\\\\app\\\\Anaconda3\\\\Scripts;d:\\\\app\\\\Anaconda3\\\\bin;C:\\\\ProgramData\\\\Oracle\\\\Java\\\\javapath;C:\\\\WINDOWS\\\\system32;C:\\\\WINDOWS;C:\\\\WINDOWS\\\\System32\\\\Wbem;C:\\\\WINDOWS\\\\System32\\\\WindowsPowerShell\\\\v1.0\\\\;D:\\\\Program Files\\\\IBM\\\\SPSS\\\\Statistics\\\\23\\\\JRE\\\\bin;D:\\\\app\\\\sqlite;D:\\\\app\\\\Pandoc\\\\;d:\\\\app\\\\Anaconda3;d:\\\\app\\\\Anaconda3\\\\Scripts;d:\\\\app\\\\Anaconda3\\\\Library\\\\bin;C:\\\\Users\\\\joong\\\\AppData\\\\Local\\\\Microsoft\\\\WindowsApps;D:\\\\texlive\\\\2016\\\\bin\\\\win32;C:\\\\Users\\\\joong\\\\AppData\\\\Local\\\\Microsoft\\\\WindowsApps', 'PATHEXT': '.COM;.EXE;.BAT;.CMD;.VBS;.VBE;.JS;.JSE;.WSF;.WSH;.MSC', 'PROCESSOR_ARCHITECTURE': 'AMD64', 'PROCESSOR_IDENTIFIER': 'Intel64 Family 6 Model 60 Stepping 3, GenuineIntel', 'PROCESSOR_LEVEL': '6', 'PROCESSOR_REVISION': '3c03', 'PROGRAMDATA': 'C:\\\\ProgramData', 'PROGRAMFILES': 'C:\\\\Program Files', 'PROGRAMFILES(X86)': 'C:\\\\Program Files (x86)', 'PROGRAMW6432': 'C:\\\\Program Files', 'PROMPT': '(base) $P$G', 'PSMODULEPATH': 'C:\\\\Program Files\\\\WindowsPowerShell\\\\Modules;C:\\\\WINDOWS\\\\system32\\\\WindowsPowerShell\\\\v1.0\\\\Modules', 'PUBLIC': 'C:\\\\Users\\\\Public', 'PYTHONIOENCODING': '949', 'SESSIONNAME': 'Console', 'SYSTEMDRIVE': 'C:', 'SYSTEMROOT': 'C:\\\\WINDOWS', 'TEMP': 'C:\\\\Users\\\\joong\\\\AppData\\\\Local\\\\Temp', 'TMP': 'C:\\\\Users\\\\joong\\\\AppData\\\\Local\\\\Temp', 'USERDOMAIN': 'MSI-DARWINIAN', 'USERDOMAIN_ROAMINGPROFILE': 'MSI-DARWINIAN', 'USERNAME': 'joong', 'USERPROFILE': 'C:\\\\Users\\\\joong', 'WINDIR': 'C:\\\\WINDOWS', 'CONDA_ROOT': 'd:\\\\app\\\\Anaconda3', 'JPY_INTERRUPT_EVENT': '1888', 'IPY_INTERRUPT_EVENT': '1888', 'JPY_PARENT_PID': '1924', 'TERM': 'xterm-color', 'CLICOLOR': '1', 'PAGER': 'cat', 'GIT_PAGER': 'cat', 'MPLBACKEND': 'module://ipykernel.pylab.backend_inline'})\n",
      "\\Users\\joong\n",
      "C:\n",
      "C:\\Users\\joong\n",
      "d:\\app\\Anaconda3;d:\\app\\Anaconda3\\Library\\mingw-w64\\bin;d:\\app\\Anaconda3\\Library\\usr\\bin;d:\\app\\Anaconda3\\Library\\bin;d:\\app\\Anaconda3\\Scripts;d:\\app\\Anaconda3\\bin;C:\\ProgramData\\Oracle\\Java\\javapath;C:\\WINDOWS\\system32;C:\\WINDOWS;C:\\WINDOWS\\System32\\Wbem;C:\\WINDOWS\\System32\\WindowsPowerShell\\v1.0\\;D:\\Program Files\\IBM\\SPSS\\Statistics\\23\\JRE\\bin;D:\\app\\sqlite;D:\\app\\Pandoc\\;d:\\app\\Anaconda3;d:\\app\\Anaconda3\\Scripts;d:\\app\\Anaconda3\\Library\\bin;C:\\Users\\joong\\AppData\\Local\\Microsoft\\WindowsApps;D:\\texlive\\2016\\bin\\win32;C:\\Users\\joong\\AppData\\Local\\Microsoft\\WindowsApps\n"
     ]
    }
   ],
   "source": [
    "import os\n",
    "print(os.environ)\n",
    "print(os.environ['HOMEPATH'])\n",
    "print(os.environ['HOMEDRIVE'])\n",
    "print(os.path.join(os.environ['HOMEDRIVE'], os.environ['HOMEPATH']))\n",
    "print(os.environ['PATH'])"
   ]
  },
  {
   "cell_type": "markdown",
   "metadata": {},
   "source": [
    "* 현 사용자의 이름을 알아보는 예제 프로그램을 작성하시오."
   ]
  },
  {
   "cell_type": "code",
   "execution_count": 14,
   "metadata": {},
   "outputs": [
    {
     "name": "stdout",
     "output_type": "stream",
     "text": [
      "joong\n"
     ]
    }
   ],
   "source": [
    "import getpass\n",
    "print(getpass.getuser())"
   ]
  },
  {
   "cell_type": "markdown",
   "metadata": {},
   "source": [
    "* 모듈에 대한 정보를 얻는 프로그램을 작성하시오."
   ]
  },
  {
   "cell_type": "code",
   "execution_count": 15,
   "metadata": {},
   "outputs": [
    {
     "name": "stdout",
     "output_type": "stream",
     "text": [
      "['__doc__', '__loader__', '__name__', '__package__', '__spec__', 'acos', 'acosh', 'asin', 'asinh', 'atan', 'atan2', 'atanh', 'ceil', 'copysign', 'cos', 'cosh', 'degrees', 'e', 'erf', 'erfc', 'exp', 'expm1', 'fabs', 'factorial', 'floor', 'fmod', 'frexp', 'fsum', 'gamma', 'gcd', 'hypot', 'inf', 'isclose', 'isfinite', 'isinf', 'isnan', 'ldexp', 'lgamma', 'log', 'log10', 'log1p', 'log2', 'modf', 'nan', 'pi', 'pow', 'radians', 'sin', 'sinh', 'sqrt', 'tan', 'tanh', 'tau', 'trunc']\n"
     ]
    }
   ],
   "source": [
    "import math            \n",
    "math_ls = dir(math) # \n",
    "print(math_ls)"
   ]
  },
  {
   "cell_type": "markdown",
   "metadata": {},
   "source": [
    "* 사용하고 있는 파이썬의 저작권에 대한 정보를 알아보는 예제 프로그램을 작성하시오."
   ]
  },
  {
   "cell_type": "code",
   "execution_count": 16,
   "metadata": {},
   "outputs": [
    {
     "name": "stdout",
     "output_type": "stream",
     "text": [
      "Copyright (c) 2001-2017 Python Software Foundation.\n",
      "All Rights Reserved.\n",
      "\n",
      "Copyright (c) 2000 BeOpen.com.\n",
      "All Rights Reserved.\n",
      "\n",
      "Copyright (c) 1995-2001 Corporation for National Research Initiatives.\n",
      "All Rights Reserved.\n",
      "\n",
      "Copyright (c) 1991-1995 Stichting Mathematisch Centrum, Amsterdam.\n",
      "All Rights Reserved.\n"
     ]
    }
   ],
   "source": [
    "import sys\n",
    "print(sys.copyright)"
   ]
  },
  {
   "cell_type": "markdown",
   "metadata": {},
   "source": [
    "* 파이썬 스크립터를 명령창에서 실행할 때 준 인자에 대한 정보를 알아보는 프로그램을 작성하시오."
   ]
  },
  {
   "cell_type": "code",
   "execution_count": 18,
   "metadata": {},
   "outputs": [
    {
     "name": "stdout",
     "output_type": "stream",
     "text": [
      "This is the name/path of the script: d:\\app\\Anaconda3\\lib\\site-packages\\ipykernel\\__main__.py\n",
      "Number of arguments: 3\n",
      "Argument List: ['d:\\\\app\\\\Anaconda3\\\\lib\\\\site-packages\\\\ipykernel\\\\__main__.py', '-f', 'C:\\\\Users\\\\joong\\\\AppData\\\\Roaming\\\\jupyter\\\\runtime\\\\kernel-cbed1082-7f18-4b87-b1bb-04aa98d68d39.json']\n"
     ]
    }
   ],
   "source": [
    "import sys\n",
    "\n",
    "print(\"This is the name/path of the script:\", sys.argv[0])\n",
    "print(\"Number of arguments:\",len(sys.argv))\n",
    "print(\"Argument List:\",sys.argv)"
   ]
  },
  {
   "cell_type": "markdown",
   "metadata": {},
   "source": [
    "* 사용중인 컴퓨터 시스템이 big-endian platform인지 little-endian platform인지를 알아보는 프로그램을 작성하시오."
   ]
  },
  {
   "cell_type": "code",
   "execution_count": 19,
   "metadata": {},
   "outputs": [
    {
     "name": "stdout",
     "output_type": "stream",
     "text": [
      "Little-endian platform.\n"
     ]
    }
   ],
   "source": [
    "import sys\n",
    "if sys.byteorder == \"little\":\n",
    "    #intel, alpha\n",
    "    print(\"Little-endian platform.\")\n",
    "else:\n",
    "    #motorola, sparc\n",
    "    print(\"Big-endian platform.\")"
   ]
  },
  {
   "cell_type": "markdown",
   "metadata": {},
   "source": [
    "* 객체나 변수가 몇 바이트인지 알아보는 예제 프로그램을 작성하시오."
   ]
  },
  {
   "cell_type": "code",
   "execution_count": 20,
   "metadata": {},
   "outputs": [
    {
     "name": "stdout",
     "output_type": "stream",
     "text": [
      "\n",
      "Memory size of 'one' = 52 bytes\n",
      "Memory size of 'four' = 53 bytes\n",
      "Memory size of 'three' = 54 bytes\n",
      "\n"
     ]
    }
   ],
   "source": [
    "import sys\n",
    "str1 = \"one\"\n",
    "str2 = \"four\"\n",
    "str3 = \"three\"\n",
    "print()\n",
    "print(\"Memory size of '\" + str1+\"' = \" + str(sys.getsizeof(str1)) + \" bytes\")\n",
    "print(\"Memory size of '\" + str2 + \"' = \" + str(sys.getsizeof(str2)) + \" bytes\")\n",
    "print(\"Memory size of '\" + str3 + \"' = \"+ str(sys.getsizeof(str3)) + \" bytes\")\n",
    "print()"
   ]
  },
  {
   "cell_type": "markdown",
   "metadata": {},
   "source": [
    "* 문자에 대한 유니코드를 알아보는 예제 프로그램을 작성하시오."
   ]
  },
  {
   "cell_type": "code",
   "execution_count": 21,
   "metadata": {},
   "outputs": [
    {
     "name": "stdout",
     "output_type": "stream",
     "text": [
      "97\n",
      "65\n",
      "49\n",
      "64\n"
     ]
    }
   ],
   "source": [
    "print(ord('a'))\n",
    "print(ord('A'))\n",
    "print(ord('1'))\n",
    "print(ord('@'))"
   ]
  },
  {
   "cell_type": "markdown",
   "metadata": {},
   "source": [
    "* 사용중인 컴푸터의 hostname을 알아보는 예제 프로그램을 작성하시오."
   ]
  },
  {
   "cell_type": "code",
   "execution_count": 22,
   "metadata": {},
   "outputs": [
    {
     "name": "stdout",
     "output_type": "stream",
     "text": [
      "Host name: msi-Darwinian\n"
     ]
    }
   ],
   "source": [
    "import socket\n",
    "host_name = socket.gethostname()\n",
    "print(\"Host name:\", host_name)"
   ]
  },
  {
   "cell_type": "markdown",
   "metadata": {},
   "source": [
    "* 명령창 명령을 실행하고 그 결과를 받아 처리하는 예제 프로그램을 작성하시오."
   ]
  },
  {
   "cell_type": "code",
   "execution_count": 23,
   "metadata": {},
   "outputs": [
    {
     "name": "stdout",
     "output_type": "stream",
     "text": [
      " D 드라이브의 볼륨: Repository\n",
      " 볼륨 일련 번호: EE20-4F4D\n",
      "\n",
      " D:\\joongyang.park\\Google 드라이브\\Documents\\강의노트\\정보통계학실습_통계프로그래밍_with_python 디렉터리\n",
      "\n",
      "2018-02-21  오후 02:15    <DIR>          .\n",
      "2018-02-21  오후 02:15    <DIR>          ..\n",
      "2018-02-21  오후 01:19    <DIR>          .ipynb_checkpoints\n",
      "2017-12-20  오후 12:37             4,349 01_자료분석과_소프트웨어.ipynb\n",
      "2018-01-11  오후 03:42             9,257 02_파이썬_소개.ipynb\n",
      "2017-12-25  오후 12:51             6,531 03_파이썬_설치와_실행.ipynb\n",
      "2018-02-07  오후 03:44            17,897 04_명령_프롬프트.ipynb\n",
      "2018-02-07  오후 03:46            12,802 05_쥬피터_노트북.ipynb\n",
      "2018-02-07  오후 03:48             6,226 06_값과_자료형_그리고_변수.ipynb\n",
      "2018-02-07  오후 03:48            13,155 07_표현식과_산술 연산자_그리고_모듈.ipynb\n",
      "2018-02-19  오후 12:00            18,383 08_비교연산자와_논리연산자_그리고_조건문.ipynb\n",
      "2018-02-07  오후 03:52            10,837 09_키보드_입력_처리하기.ipynb\n",
      "2018-02-07  오후 03:53            32,442 10_자료구조와_반복문.ipynb\n",
      "2018-02-20  오후 02:31            12,060 11_표현식_연습문제.ipynb\n",
      "2018-02-20  오전 11:20            10,479 12_조건문과_반복문_연습문제.ipynb\n",
      "2018-02-07  오후 03:56            28,403 13_자료구조_리스트.ipynb\n",
      "2018-02-07  오후 03:56            13,670 14_list_comprehension.ipynb\n",
      "2018-02-20  오후 01:58            16,416 15_자료구조_튜플과_셋.ipynb\n",
      "2018-02-07  오후 03:58            10,248 16_자료구조_사전.ipynb\n",
      "2018-02-20  오후 04:11            24,374 17_자료구조_연습문제_I.ipynb\n",
      "2018-02-20  오후 05:48            27,116 17_자료구조_연습문제_II.ipynb\n",
      "2018-02-07  오후 03:59            34,726 18_문자열.ipynb\n",
      "2018-02-21  오전 09:30             9,622 19_문자열_연습문제.ipynb\n",
      "2018-02-05  오후 12:28            21,472 21_함수.ipynb\n",
      "2018-02-20  오후 08:00            10,370 22_함수_연습문제.ipynb\n",
      "2018-02-07  오후 04:06            24,940 23_디렉토리와_파일_관리.ipynb\n",
      "2018-02-07  오후 04:09            17,287 24_텍스트_파일_처리.ipynb\n",
      "2018-02-07  오후 04:12            28,831 25_특별한_형식의_텍스트_파일_처리.ipynb\n",
      "2018-02-09  오후 04:24           420,515 26_이미지_파일_처리.ipynb\n",
      "2018-02-21  오후 02:00            17,634 27_파일처리_연습문제.ipynb\n",
      "2018-02-09  오후 01:05            18,024 28_정규식.ipynb\n",
      "2018-02-20  오전 10:49            38,011 29_정규식_연습문제.ipynb\n",
      "2018-02-07  오후 04:13            11,620 30_날짜와_시각.ipynb\n",
      "2018-02-21  오후 01:53            23,764 31_날짜와_시각_연습문제.ipynb\n",
      "2018-02-21  오후 02:15            85,893 32_연습문제.ipynb\n",
      "2018-02-18  오후 07:14             4,018 abc.txt\n",
      "2018-02-07  오후 04:06    <DIR>          backup\n",
      "2017-12-20  오후 12:03    <DIR>          books_references\n",
      "2018-02-21  오전 10:46                40 colors.txt\n",
      "2018-02-09  오후 01:00    <DIR>          datasets\n",
      "2018-02-09  오후 03:37    <DIR>          images\n",
      "2018-02-21  오전 10:47               822 test.txt\n",
      "2018-02-21  오전 09:55               822 text.txt\n",
      "2017-12-20  오후 12:00    <DIR>          강의운영자료\n",
      "              36개 파일           1,043,056 바이트\n",
      "               8개 디렉터리  963,411,075,072 바이트 남음\n",
      "\n"
     ]
    }
   ],
   "source": [
    "import subprocess\n",
    "returned_text = subprocess.check_output(\"dir\", shell=True, universal_newlines=True)\n",
    "print(returned_text)"
   ]
  },
  {
   "cell_type": "markdown",
   "metadata": {},
   "source": [
    "* 시스템이 지원하는 정수와 실수의 최대값과 최소값에 대한 정보를 얻는 에제 프로그램을 작성하시오."
   ]
  },
  {
   "cell_type": "code",
   "execution_count": 26,
   "metadata": {},
   "outputs": [
    {
     "name": "stdout",
     "output_type": "stream",
     "text": [
      "Float value information:  sys.float_info(max=1.7976931348623157e+308, max_exp=1024, max_10_exp=308, min=2.2250738585072014e-308, min_exp=-1021, min_10_exp=-307, dig=15, mant_dig=53, epsilon=2.220446049250313e-16, radix=2, rounds=1)\n",
      "\n",
      "Integer value information:  sys.int_info(bits_per_digit=30, sizeof_digit=4)\n",
      "\n",
      "Maximum size of an integer:  9223372036854775807\n"
     ]
    }
   ],
   "source": [
    "import sys\n",
    "print(\"Float value information: \",sys.float_info)\n",
    "print(\"\\nInteger value information: \",sys.int_info)\n",
    "print(\"\\nMaximum size of an integer: \",sys.maxsize) "
   ]
  },
  {
   "cell_type": "markdown",
   "metadata": {},
   "source": [
    "* 홈 디렉토리에 대한 절대경로를 얻는 에제 프로그램을 작성하시오."
   ]
  },
  {
   "cell_type": "code",
   "execution_count": 27,
   "metadata": {},
   "outputs": [
    {
     "name": "stdout",
     "output_type": "stream",
     "text": [
      "C:\\Users\\joong\n"
     ]
    }
   ],
   "source": [
    "import os.path\n",
    "print(os.path.expanduser('~'))"
   ]
  },
  {
   "cell_type": "markdown",
   "metadata": {},
   "source": [
    "* 파이썬 모듈을 찾는 디렉토리 목록을 얻는 프로그램을 작성하시오."
   ]
  },
  {
   "cell_type": "code",
   "execution_count": 28,
   "metadata": {},
   "outputs": [
    {
     "name": "stdout",
     "output_type": "stream",
     "text": [
      "\n",
      "List of directories in sys module:\n",
      "['', 'd:\\\\app\\\\Anaconda3\\\\python36.zip', 'd:\\\\app\\\\Anaconda3\\\\DLLs', 'd:\\\\app\\\\Anaconda3\\\\lib', 'd:\\\\app\\\\Anaconda3', 'd:\\\\app\\\\Anaconda3\\\\lib\\\\site-packages', 'd:\\\\app\\\\Anaconda3\\\\lib\\\\site-packages\\\\Babel-2.5.0-py3.6.egg', 'd:\\\\app\\\\Anaconda3\\\\lib\\\\site-packages\\\\Mako-1.0.7-py3.6.egg', 'd:\\\\app\\\\Anaconda3\\\\lib\\\\site-packages\\\\win32', 'd:\\\\app\\\\Anaconda3\\\\lib\\\\site-packages\\\\win32\\\\lib', 'd:\\\\app\\\\Anaconda3\\\\lib\\\\site-packages\\\\Pythonwin', 'd:\\\\app\\\\Anaconda3\\\\lib\\\\site-packages\\\\IPython\\\\extensions', 'C:\\\\Users\\\\joong\\\\.ipython']\n"
     ]
    }
   ],
   "source": [
    "import sys\n",
    "print(\"\\nList of directories in sys module:\")\n",
    "print(sys.path)"
   ]
  },
  {
   "cell_type": "markdown",
   "metadata": {},
   "source": [
    "* 구글 뉴스 사이트에서 뉴스를 읽어오는 예제 프로그램을 작성하시오."
   ]
  },
  {
   "cell_type": "code",
   "execution_count": 29,
   "metadata": {},
   "outputs": [
    {
     "name": "stdout",
     "output_type": "stream",
     "text": [
      "Trump, citing 'evil massacre' in Florida, floats ideas on gun control that could put him at odds with NRA\n",
      "http://www.chicagotribune.com/news/nationworld/politics/ct-trump-ban-bump-stocks-20180220-story.html\n",
      "Wed, 21 Feb 2018 04:52:30 GMT\n",
      "------------------------------------------------------------\n",
      "North Korea Dropped Out of Meeting With Pence at Last Minute, US Says\n",
      "https://www.nytimes.com/2018/02/20/us/politics/pence-north-korea-meeting.html\n",
      "Wed, 21 Feb 2018 04:45:42 GMT\n",
      "------------------------------------------------------------\n",
      "Former Skadden Lawyer Pleads Guilty to Lying in Russia Investigation\n",
      "https://www.nytimes.com/2018/02/20/us/politics/alex-van-der-zwaan-gates-russia-mueller.html\n",
      "Wed, 21 Feb 2018 02:08:08 GMT\n",
      "------------------------------------------------------------\n",
      "A lawmaker's aide called school-shooting survivors 'actors.' Within hours, he was fired.\n",
      "https://www.washingtonpost.com/news/politics/wp/2018/02/20/a-lawmakers-aide-called-school-shooting-survivors-actors-within-hours-he-was-fired/\n",
      "Wed, 21 Feb 2018 03:08:14 GMT\n",
      "------------------------------------------------------------\n",
      "Dems flip Kentucky House seat held by lawmaker who killed himself\n",
      "http://www.foxnews.com/politics/2018/02/20/dems-flip-kentucky-house-seat-held-by-lawmaker-who-killed-himself.html\n",
      "Wed, 21 Feb 2018 03:11:21 GMT\n",
      "------------------------------------------------------------\n",
      "Trump Tries to Shift Blame to Obama for Not Countering Russian Meddling\n",
      "https://www.nytimes.com/2018/02/20/us/politics/trump-obama-russian-meddling.html\n",
      "Wed, 21 Feb 2018 01:25:00 GMT\n",
      "------------------------------------------------------------\n",
      "Supreme Court leaves in place California's 10-day wait for gun buyers, rejects 2nd Amendment challenge\n",
      "http://www.latimes.com/politics/la-na-pol-court-guns-20180220-story.html\n",
      "Tue, 20 Feb 2018 21:22:19 GMT\n",
      "------------------------------------------------------------\n",
      "Kushner Resists Losing Access as Kelly Tackles Security Clearance Issues\n",
      "https://www.nytimes.com/2018/02/20/us/politics/kushner-kelly-security-clearance-.html\n",
      "Wed, 21 Feb 2018 04:32:00 GMT\n",
      "------------------------------------------------------------\n",
      "Abbas, Haley exchange strong criticism over Middle East at UN Security Council\n",
      "https://www.washingtonpost.com/politics/abbas-haley-exchange-strong-criticism-over-middle-east-at-un-security-council/2018/02/20/e469157a-164f-11e8-b681-2d4d462a1921_story.html\n",
      "Tue, 20 Feb 2018 22:43:14 GMT\n",
      "------------------------------------------------------------\n",
      "Trump Denies Woman's Allegation Of Unwanted Kissing In Trump Tower\n",
      "https://www.npr.org/2018/02/20/587253019/trump-denies-womans-allegation-of-unwanted-kissing-in-trump-tower\n",
      "Tue, 20 Feb 2018 18:31:51 GMT\n",
      "------------------------------------------------------------\n",
      "Trump plan: Less health insurance for lower premiums\n",
      "http://abcnews.go.com/Health/wireStory/trump-plan-comprehensive-health-plans-lower-cost-53216781\n",
      "Tue, 20 Feb 2018 19:30:12 GMT\n",
      "------------------------------------------------------------\n",
      "Luxury property ad blitz heralds Trump son's visit to India\n",
      "https://www.washingtonpost.com/business/luxury-property-ad-blitz-heralds-trump-sons-visit-to-india/2018/02/20/d8e8d88a-16ad-11e8-930c-45838ad0d77a_story.html\n",
      "Wed, 21 Feb 2018 02:25:07 GMT\n",
      "------------------------------------------------------------\n",
      "Heavy rain creates flood warnings along local rivers; snow could fall overnight\n",
      "http://www.chicagotribune.com/news/local/breaking/ct-met-flooding-chicago-weather-20180220-story.html\n",
      "Tue, 20 Feb 2018 21:33:45 GMT\n",
      "------------------------------------------------------------\n",
      "Report: Mavericks Former President And CEO Was A Serial Sexual Harasser\n",
      "https://deadspin.com/report-mavericks-former-president-and-ceo-was-a-serial-1823179417\n",
      "Wed, 21 Feb 2018 04:42:00 GMT\n",
      "------------------------------------------------------------\n",
      "There's More Going On in Black Panther's End Credit Scenes Than You Think\n",
      "https://io9.gizmodo.com/theres-more-going-on-in-black-panthers-end-credit-scene-1823050309\n",
      "Tue, 20 Feb 2018 18:46:00 GMT\n",
      "------------------------------------------------------------\n",
      "South Lyon student threatened school on social media, police say\n",
      "http://www.mlive.com/news/ann-arbor/index.ssf/2018/02/south_lyon_schools_threat_on_s.html\n",
      "Tue, 20 Feb 2018 21:07:19 GMT\n",
      "------------------------------------------------------------\n",
      "Dassey's legal team asks US Supreme Court to hear appeal\n",
      "http://www.wbay.com/content/news/Dasseys-legal-team-asks-US-Supreme-Court-to-hear-appeal-474614573.html\n",
      "Tue, 20 Feb 2018 19:18:58 GMT\n",
      "------------------------------------------------------------\n",
      "University Of Louisville Forced To Vacate Championship After Sex Scandal\n",
      "https://www.huffingtonpost.com/entry/university-of-louisville-vacate-wins_us_5a8c5f35e4b0273053a53e07\n",
      "Tue, 20 Feb 2018 22:16:51 GMT\n",
      "------------------------------------------------------------\n",
      "Brandon Drury is an upside play at just the right price\n",
      "https://nypost.com/2018/02/20/brandon-drury-is-an-upside-play-at-just-the-right-price/\n",
      "Wed, 21 Feb 2018 02:03:00 GMT\n",
      "------------------------------------------------------------\n",
      "Winter Olympics 2018: Team USA's Mirai Nagasu stumbles during tiple axel\n",
      "https://www.cbsnews.com/news/winter-olympics-2018-02-20-results-latest-medal-count-today-live-updates/\n",
      "Wed, 21 Feb 2018 04:58:47 GMT\n",
      "------------------------------------------------------------\n"
     ]
    }
   ],
   "source": [
    "import bs4\n",
    "from bs4 import BeautifulSoup as soup\n",
    "from urllib.request import urlopen\n",
    "\n",
    "news_url=\"https://news.google.com/news/rss\"\n",
    "Client=urlopen(news_url)\n",
    "xml_page=Client.read()\n",
    "Client.close()\n",
    "\n",
    "soup_page=soup(xml_page,\"xml\")\n",
    "news_list=soup_page.findAll(\"item\")\n",
    "# Print news title, url and publish date\n",
    "for news in news_list:\n",
    "  print(news.title.text)\n",
    "  print(news.link.text)\n",
    "  print(news.pubDate.text)\n",
    "  print(\"-\"*60)"
   ]
  },
  {
   "cell_type": "markdown",
   "metadata": {},
   "source": [
    "* 현재 설치된 파이썬 패키지의 목록을 얻는 예제 프로그램을 작성하시오."
   ]
  },
  {
   "cell_type": "code",
   "execution_count": 31,
   "metadata": {},
   "outputs": [
    {
     "name": "stdout",
     "output_type": "stream",
     "text": [
      "[zict 0.1.3 (d:\\app\\anaconda3\\lib\\site-packages), xlwt 1.3.0 (d:\\app\\anaconda3\\lib\\site-packages), xlwings 0.11.4 (d:\\app\\anaconda3\\lib\\site-packages), XlsxWriter 1.0.2 (d:\\app\\anaconda3\\lib\\site-packages), xlrd 1.1.0 (d:\\app\\anaconda3\\lib\\site-packages), wrapt 1.10.11 (d:\\app\\anaconda3\\lib\\site-packages), wincertstore 0.2 (d:\\app\\anaconda3\\lib\\site-packages), win-unicode-console 0.5 (d:\\app\\anaconda3\\lib\\site-packages), win-inet-pton 1.0.1 (d:\\app\\anaconda3\\lib\\site-packages), widgetsnbextension 3.0.2 (d:\\app\\anaconda3\\lib\\site-packages), wheel 0.29.0 (d:\\app\\anaconda3\\lib\\site-packages), Werkzeug 0.12.2 (d:\\app\\anaconda3\\lib\\site-packages), webencodings 0.5.1 (d:\\app\\anaconda3\\lib\\site-packages), wcwidth 0.1.7 (d:\\app\\anaconda3\\lib\\site-packages), urllib3 1.22 (d:\\app\\anaconda3\\lib\\site-packages), unicodecsv 0.14.1 (d:\\app\\anaconda3\\lib\\site-packages), typing 3.6.2 (d:\\app\\anaconda3\\lib\\site-packages), traitlets 4.3.2 (d:\\app\\anaconda3\\lib\\site-packages), tornado 4.5.2 (d:\\app\\anaconda3\\lib\\site-packages), toolz 0.8.2 (d:\\app\\anaconda3\\lib\\site-packages), Theano 0.9.0 (d:\\app\\anaconda3\\lib\\site-packages), testpath 0.3.1 (d:\\app\\anaconda3\\lib\\site-packages), tensorflow 1.2.1 (d:\\app\\anaconda3\\lib\\site-packages), tblib 1.3.2 (d:\\app\\anaconda3\\lib\\site-packages), tables 3.4.2 (d:\\app\\anaconda3\\lib\\site-packages), sympy 1.1.1 (d:\\app\\anaconda3\\lib\\site-packages), statsmodels 0.8.0 (d:\\app\\anaconda3\\lib\\site-packages), SQLAlchemy 1.1.13 (d:\\app\\anaconda3\\lib\\site-packages), spyder 3.2.4 (d:\\app\\anaconda3\\lib\\site-packages), sphinxcontrib-websupport 1.0.1 (d:\\app\\anaconda3\\lib\\site-packages), Sphinx 1.6.3 (d:\\app\\anaconda3\\lib\\site-packages), sortedcontainers 1.5.7 (d:\\app\\anaconda3\\lib\\site-packages), sortedcollections 0.5.3 (d:\\app\\anaconda3\\lib\\site-packages), sockjs-tornado 1.0.3 (d:\\app\\anaconda3\\lib\\site-packages), snowballstemmer 1.2.1 (d:\\app\\anaconda3\\lib\\site-packages), six 1.11.0 (d:\\app\\anaconda3\\lib\\site-packages), singledispatch 3.4.0.3 (d:\\app\\anaconda3\\lib\\site-packages), simplegeneric 0.8.1 (d:\\app\\anaconda3\\lib\\site-packages), setuptools 36.5.0.post20170921 (d:\\app\\anaconda3\\lib\\site-packages), seaborn 0.8 (d:\\app\\anaconda3\\lib\\site-packages), scipy 0.19.1 (d:\\app\\anaconda3\\lib\\site-packages), scikit-learn 0.19.1 (d:\\app\\anaconda3\\lib\\site-packages), scikit-image 0.13.1 (d:\\app\\anaconda3\\lib\\site-packages), ruamel-yaml 0.11.14 (d:\\app\\anaconda3\\lib\\site-packages), rope 0.10.5 (d:\\app\\anaconda3\\lib\\site-packages), requests 2.18.4 (d:\\app\\anaconda3\\lib\\site-packages), QtPy 1.3.1 (d:\\app\\anaconda3\\lib\\site-packages), qtconsole 4.3.1 (d:\\app\\anaconda3\\lib\\site-packages), QtAwesome 0.4.4 (d:\\app\\anaconda3\\lib\\site-packages), pyzmq 16.0.2 (d:\\app\\anaconda3\\lib\\site-packages), PyYAML 3.12 (d:\\app\\anaconda3\\lib\\site-packages), pywin32 221 (d:\\app\\anaconda3\\lib\\site-packages), PyWavelets 0.5.2 (d:\\app\\anaconda3\\lib\\site-packages), pytz 2017.2 (d:\\app\\anaconda3\\lib\\site-packages), python-dateutil 2.6.1 (d:\\app\\anaconda3\\lib\\site-packages), pytest 3.2.1 (d:\\app\\anaconda3\\lib\\site-packages), PySocks 1.6.7 (d:\\app\\anaconda3\\lib\\site-packages), pyreadline 2.1 (d:\\app\\anaconda3\\lib\\site-packages), pyperclip 1.6.0 (d:\\app\\anaconda3\\lib\\site-packages), pyparsing 2.2.0 (d:\\app\\anaconda3\\lib\\site-packages), pyOpenSSL 17.2.0 (d:\\app\\anaconda3\\lib\\site-packages), pyodbc 4.0.17 (d:\\app\\anaconda3\\lib\\site-packages), pylint 1.7.4 (d:\\app\\anaconda3\\lib\\site-packages), pygpu 0.6.9 (d:\\app\\anaconda3\\lib\\site-packages), Pygments 2.2.0 (d:\\app\\anaconda3\\lib\\site-packages), pyflakes 1.6.0 (d:\\app\\anaconda3\\lib\\site-packages), pycurl 7.43.0 (d:\\app\\anaconda3\\lib\\site-packages), pycrypto 2.6.1 (d:\\app\\anaconda3\\lib\\site-packages), pycparser 2.18 (d:\\app\\anaconda3\\lib\\site-packages), pycosat 0.6.3 (d:\\app\\anaconda3\\lib\\site-packages), pycodestyle 2.3.1 (d:\\app\\anaconda3\\lib\\site-packages), pyasn1 0.3.7 (d:\\app\\anaconda3\\lib\\site-packages), py 1.4.34 (d:\\app\\anaconda3\\lib\\site-packages), psutil 5.4.0 (d:\\app\\anaconda3\\lib\\site-packages), protobuf 3.3.0 (d:\\app\\anaconda3\\lib\\site-packages), prompt-toolkit 1.0.15 (d:\\app\\anaconda3\\lib\\site-packages), progress 1.3 (d:\\app\\anaconda3\\lib\\site-packages), ply 3.10 (d:\\app\\anaconda3\\lib\\site-packages), pkginfo 1.4.1 (d:\\app\\anaconda3\\lib\\site-packages), pip 9.0.1 (d:\\app\\anaconda3\\lib\\site-packages), Pillow 5.0.0 (d:\\app\\anaconda3\\lib\\site-packages), pickleshare 0.7.4 (d:\\app\\anaconda3\\lib\\site-packages), pep8 1.7.0 (d:\\app\\anaconda3\\lib\\site-packages), patsy 0.4.1 (d:\\app\\anaconda3\\lib\\site-packages), pathlib2 2.3.0 (d:\\app\\anaconda3\\lib\\site-packages), path.py 10.3.1 (d:\\app\\anaconda3\\lib\\site-packages), partd 0.3.8 (d:\\app\\anaconda3\\lib\\site-packages), pandocfilters 1.4.2 (d:\\app\\anaconda3\\lib\\site-packages), pandas 0.20.3 (d:\\app\\anaconda3\\lib\\site-packages), packaging 16.8 (d:\\app\\anaconda3\\lib\\site-packages), openpyxl 2.4.8 (d:\\app\\anaconda3\\lib\\site-packages), opencv-python 3.4.0.12 (d:\\app\\anaconda3\\lib\\site-packages), opencv-contrib-python 3.4.0.12 (d:\\app\\anaconda3\\lib\\site-packages), olefile 0.44 (d:\\app\\anaconda3\\lib\\site-packages), odo 0.5.1 (d:\\app\\anaconda3\\lib\\site-packages), numpydoc 0.7.0 (d:\\app\\anaconda3\\lib\\site-packages), numpy 1.13.3 (d:\\app\\anaconda3\\lib\\site-packages), numexpr 2.6.2 (d:\\app\\anaconda3\\lib\\site-packages), numba 0.35.0+10.g143f70e (d:\\app\\anaconda3\\lib\\site-packages), notebook 5.0.0 (d:\\app\\anaconda3\\lib\\site-packages), nose 1.3.7 (d:\\app\\anaconda3\\lib\\site-packages), nltk 3.2.4 (d:\\app\\anaconda3\\lib\\site-packages), networkx 2.0 (d:\\app\\anaconda3\\lib\\site-packages), nbpresent 3.0.2 (d:\\app\\anaconda3\\lib\\site-packages), nbformat 4.4.0 (d:\\app\\anaconda3\\lib\\site-packages), nbconvert 5.3.1 (d:\\app\\anaconda3\\lib\\site-packages), nb-conda 2.2.1 (d:\\app\\anaconda3\\lib\\site-packages), nb-conda-kernels 2.1.0 (d:\\app\\anaconda3\\lib\\site-packages), nb-anacondacloud 1.4.0 (d:\\app\\anaconda3\\lib\\site-packages), navigator-updater 0.1.0 (d:\\app\\anaconda3\\lib\\site-packages), multipledispatch 0.4.9 (d:\\app\\anaconda3\\lib\\site-packages), msgpack-python 0.4.8 (d:\\app\\anaconda3\\lib\\site-packages), mpmath 0.19 (d:\\app\\anaconda3\\lib\\site-packages), mistune 0.7.4 (d:\\app\\anaconda3\\lib\\site-packages), menuinst 1.4.10 (d:\\app\\anaconda3\\lib\\site-packages), mccabe 0.6.1 (d:\\app\\anaconda3\\lib\\site-packages), matplotlib 2.1.0 (d:\\app\\anaconda3\\lib\\site-packages), MarkupSafe 1.0 (d:\\app\\anaconda3\\lib\\site-packages), Markdown 2.6.8 (d:\\app\\anaconda3\\lib\\site-packages), lxml 4.1.0 (d:\\app\\anaconda3\\lib\\site-packages), lockfile 0.12.2 (d:\\app\\anaconda3\\lib\\site-packages), locket 0.2.0 (d:\\app\\anaconda3\\lib\\site-packages), llvmlite 0.20.0 (d:\\app\\anaconda3\\lib\\site-packages), lazy-object-proxy 1.3.1 (d:\\app\\anaconda3\\lib\\site-packages), Keras 2.0.4 (d:\\app\\anaconda3\\lib\\site-packages), jupyterlab 0.27.0 (d:\\app\\anaconda3\\lib\\site-packages), jupyterlab-launcher 0.4.0 (d:\\app\\anaconda3\\lib\\site-packages), jupyter-core 4.3.0 (d:\\app\\anaconda3\\lib\\site-packages), jupyter-console 5.2.0 (d:\\app\\anaconda3\\lib\\site-packages), jupyter-client 5.1.0 (d:\\app\\anaconda3\\lib\\site-packages), jsonschema 2.6.0 (d:\\app\\anaconda3\\lib\\site-packages), Jinja2 2.9.6 (d:\\app\\anaconda3\\lib\\site-packages), jedi 0.10.2 (d:\\app\\anaconda3\\lib\\site-packages), jdcal 1.3 (d:\\app\\anaconda3\\lib\\site-packages), itsdangerous 0.24 (d:\\app\\anaconda3\\lib\\site-packages), isort 4.2.15 (d:\\app\\anaconda3\\lib\\site-packages), ipywidgets 7.0.0 (d:\\app\\anaconda3\\lib\\site-packages), ipython 6.1.0 (d:\\app\\anaconda3\\lib\\site-packages), ipython-genutils 0.2.0 (d:\\app\\anaconda3\\lib\\site-packages), ipykernel 4.6.1 (d:\\app\\anaconda3\\lib\\site-packages), imagesize 0.7.1 (d:\\app\\anaconda3\\lib\\site-packages), imageio 2.2.0 (d:\\app\\anaconda3\\lib\\site-packages), idna 2.6 (d:\\app\\anaconda3\\lib\\site-packages), html5lib 0.999999999 (d:\\app\\anaconda3\\lib\\site-packages), heapdict 1.0.0 (d:\\app\\anaconda3\\lib\\site-packages), h5py 2.7.0 (d:\\app\\anaconda3\\lib\\site-packages), greenlet 0.4.12 (d:\\app\\anaconda3\\lib\\site-packages), glob2 0.5 (d:\\app\\anaconda3\\lib\\site-packages), gevent 1.2.2 (d:\\app\\anaconda3\\lib\\site-packages), Flask 0.12.2 (d:\\app\\anaconda3\\lib\\site-packages), Flask-Cors 3.0.3 (d:\\app\\anaconda3\\lib\\site-packages), filelock 2.0.12 (d:\\app\\anaconda3\\lib\\site-packages), fastcache 1.0.2 (d:\\app\\anaconda3\\lib\\site-packages), et-xmlfile 1.0.1 (d:\\app\\anaconda3\\lib\\site-packages), entrypoints 0.2.3 (d:\\app\\anaconda3\\lib\\site-packages), docutils 0.14 (d:\\app\\anaconda3\\lib\\site-packages), distributed 1.19.1 (d:\\app\\anaconda3\\lib\\site-packages), distlib 0.2.5 (d:\\app\\anaconda3\\lib\\site-packages), dill 0.2.7.1 (d:\\app\\anaconda3\\lib\\site-packages), decorator 4.1.2 (d:\\app\\anaconda3\\lib\\site-packages), datashape 0.5.4 (d:\\app\\anaconda3\\lib\\site-packages), dask 0.15.3 (d:\\app\\anaconda3\\lib\\site-packages), cytoolz 0.8.2 (d:\\app\\anaconda3\\lib\\site-packages), Cython 0.26.1 (d:\\app\\anaconda3\\lib\\site-packages), cycler 0.10.0 (d:\\app\\anaconda3\\lib\\site-packages), cryptography 2.0.3 (d:\\app\\anaconda3\\lib\\site-packages), contextlib2 0.5.5 (d:\\app\\anaconda3\\lib\\site-packages), configobj 5.0.6 (d:\\app\\anaconda3\\lib\\site-packages), conda 4.4.9 (d:\\app\\anaconda3\\lib\\site-packages), comtypes 1.1.2 (d:\\app\\anaconda3\\lib\\site-packages), colorama 0.3.9 (d:\\app\\anaconda3\\lib\\site-packages), clyent 1.2.2 (d:\\app\\anaconda3\\lib\\site-packages), cloudpickle 0.4.0 (d:\\app\\anaconda3\\lib\\site-packages), click 6.7 (d:\\app\\anaconda3\\lib\\site-packages), chest 0.2.3 (d:\\app\\anaconda3\\lib\\site-packages), chardet 3.0.4 (d:\\app\\anaconda3\\lib\\site-packages), cffi 1.10.0 (d:\\app\\anaconda3\\lib\\site-packages), certifi 2018.1.18 (d:\\app\\anaconda3\\lib\\site-packages), CacheControl 0.12.3 (d:\\app\\anaconda3\\lib\\site-packages), Bottleneck 1.2.1 (d:\\app\\anaconda3\\lib\\site-packages), boto 2.48.0 (d:\\app\\anaconda3\\lib\\site-packages), bokeh 0.12.10 (d:\\app\\anaconda3\\lib\\site-packages), bleach 2.0.0 (d:\\app\\anaconda3\\lib\\site-packages), blaze 0.11.3 (d:\\app\\anaconda3\\lib\\site-packages), bkcharts 0.2 (d:\\app\\anaconda3\\lib\\site-packages), bitarray 0.8.1 (d:\\app\\anaconda3\\lib\\site-packages), beautifulsoup4 4.6.0 (d:\\app\\anaconda3\\lib\\site-packages), backports.weakref 1.0rc1 (d:\\app\\anaconda3\\lib\\site-packages), backports.shutil-get-terminal-size 1.0.0 (d:\\app\\anaconda3\\lib\\site-packages), astropy 2.0.2 (d:\\app\\anaconda3\\lib\\site-packages), astroid 1.5.3 (d:\\app\\anaconda3\\lib\\site-packages), asn1crypto 0.22.0 (d:\\app\\anaconda3\\lib\\site-packages), anaconda-project 0.8.0 (d:\\app\\anaconda3\\lib\\site-packages), anaconda-navigator 1.6.9 (d:\\app\\anaconda3\\lib\\site-packages), anaconda-client 1.6.5 (d:\\app\\anaconda3\\lib\\site-packages), alabaster 0.7.10 (d:\\app\\anaconda3\\lib\\site-packages), babel 2.5.0 (d:\\app\\anaconda3\\lib\\site-packages\\babel-2.5.0-py3.6.egg), mako 1.0.7 (d:\\app\\anaconda3\\lib\\site-packages\\mako-1.0.7-py3.6.egg)]\n"
     ]
    }
   ],
   "source": [
    "import pip\n",
    "installed_packages = pip.get_installed_distributions()\n",
    "print(installed_packages)"
   ]
  }
 ],
 "metadata": {
  "kernelspec": {
   "display_name": "Python [default]",
   "language": "python",
   "name": "python3"
  },
  "language_info": {
   "codemirror_mode": {
    "name": "ipython",
    "version": 3
   },
   "file_extension": ".py",
   "mimetype": "text/x-python",
   "name": "python",
   "nbconvert_exporter": "python",
   "pygments_lexer": "ipython3",
   "version": "3.6.3"
  }
 },
 "nbformat": 4,
 "nbformat_minor": 2
}
